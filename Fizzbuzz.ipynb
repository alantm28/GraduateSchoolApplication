{
 "cells": [
  {
   "cell_type": "code",
   "execution_count": null,
   "metadata": {},
   "outputs": [],
   "source": [
    "print('Code for Fizzbuzz')\n",
    "y = list(range(0, 101));\n",
    "n = len(y);\n",
    "for k in range(n):\n",
    "    if k % 15 == 0:\n",
    "        print ('FizzBuzz ')\n",
    "        continue\n",
    "    elif k % 5 == 0:\n",
    "        print ('Buzz ')\n",
    "        continue\n",
    "    elif k % 3 == 0:\n",
    "        print ('Fizz ')\n",
    "        continue\n",
    "    print (k)\n",
    "    continue"
   ]
  }
 ],
 "metadata": {
  "kernelspec": {
   "display_name": "Python 3",
   "language": "python",
   "name": "python3"
  },
  "language_info": {
   "codemirror_mode": {
    "name": "ipython",
    "version": 3
   },
   "file_extension": ".py",
   "mimetype": "text/x-python",
   "name": "python",
   "nbconvert_exporter": "python",
   "pygments_lexer": "ipython3",
   "version": "3.8.5"
  }
 },
 "nbformat": 4,
 "nbformat_minor": 4
}
